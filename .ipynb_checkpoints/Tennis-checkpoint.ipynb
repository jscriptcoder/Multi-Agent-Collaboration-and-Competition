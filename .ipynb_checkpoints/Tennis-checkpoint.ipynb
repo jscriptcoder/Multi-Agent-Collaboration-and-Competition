{
 "cells": [
  {
   "cell_type": "markdown",
   "metadata": {},
   "source": [
    "# Collaboration and Competition\n",
    "\n",
    "---\n",
    "\n",
    "In this notebook, you will learn how to use the Unity ML-Agents environment for the third project of the [Deep Reinforcement Learning Nanodegree](https://www.udacity.com/course/deep-reinforcement-learning-nanodegree--nd893) program.\n",
    "\n",
    "### 1. Start the Environment\n",
    "\n",
    "We begin by importing the necessary packages.  If the code cell below returns an error, please revisit the project instructions to double-check that you have installed [Unity ML-Agents](https://github.com/Unity-Technologies/ml-agents/blob/master/docs/Installation.md) and [NumPy](http://www.numpy.org/)."
   ]
  },
  {
   "cell_type": "code",
   "execution_count": null,
   "metadata": {},
   "outputs": [],
   "source": [
    "from unityagents import UnityEnvironment\n",
    "import numpy as np"
   ]
  },
  {
   "cell_type": "markdown",
   "metadata": {},
   "source": [
    "Next, we will start the environment!  **_Before running the code cell below_**, change the `file_name` parameter to match the location of the Unity environment that you downloaded.\n",
    "\n",
    "- **Mac**: `\"path/to/Tennis.app\"`\n",
    "- **Windows** (x86): `\"path/to/Tennis_Windows_x86/Tennis.exe\"`\n",
    "- **Windows** (x86_64): `\"path/to/Tennis_Windows_x86_64/Tennis.exe\"`\n",
    "- **Linux** (x86): `\"path/to/Tennis_Linux/Tennis.x86\"`\n",
    "- **Linux** (x86_64): `\"path/to/Tennis_Linux/Tennis.x86_64\"`\n",
    "- **Linux** (x86, headless): `\"path/to/Tennis_Linux_NoVis/Tennis.x86\"`\n",
    "- **Linux** (x86_64, headless): `\"path/to/Tennis_Linux_NoVis/Tennis.x86_64\"`\n",
    "\n",
    "For instance, if you are using a Mac, then you downloaded `Tennis.app`.  If this file is in the same folder as the notebook, then the line below should appear as follows:\n",
    "```\n",
    "env = UnityEnvironment(file_name=\"Tennis.app\")\n",
    "```"
   ]
  },
  {
   "cell_type": "code",
   "execution_count": null,
   "metadata": {},
   "outputs": [],
   "source": [
    "env = UnityEnvironment(file_name='./env/Tennis.app')"
   ]
  },
  {
   "cell_type": "markdown",
   "metadata": {},
   "source": [
    "Environments contain **_brains_** which are responsible for deciding the actions of their associated agents. Here we check for the first brain available, and set it as the default brain we will be controlling from Python."
   ]
  },
  {
   "cell_type": "code",
   "execution_count": null,
   "metadata": {},
   "outputs": [],
   "source": [
    "# get the default brain\n",
    "brain_name = env.brain_names[0]\n",
    "brain = env.brains[brain_name]"
   ]
  },
  {
   "cell_type": "markdown",
   "metadata": {},
   "source": [
    "### 2. Examine the State and Action Spaces\n",
    "\n",
    "In this environment, two agents control rackets to bounce a ball over a net. If an agent hits the ball over the net, it receives a reward of +0.1.  If an agent lets a ball hit the ground or hits the ball out of bounds, it receives a reward of -0.01.  Thus, the goal of each agent is to keep the ball in play.\n",
    "\n",
    "The observation space consists of 8 variables corresponding to the position and velocity of the ball and racket. Two continuous actions are available, corresponding to movement toward (or away from) the net, and jumping. \n",
    "\n",
    "Run the code cell below to print some information about the environment."
   ]
  },
  {
   "cell_type": "code",
   "execution_count": null,
   "metadata": {},
   "outputs": [],
   "source": [
    "# reset the environment\n",
    "env_info = env.reset(train_mode=True)[brain_name]\n",
    "\n",
    "# number of agents \n",
    "num_agents = len(env_info.agents)\n",
    "print('Number of agents:', num_agents)\n",
    "\n",
    "# size of each action\n",
    "action_size = brain.vector_action_space_size\n",
    "print('Size of each action:', action_size)\n",
    "\n",
    "# examine the state space \n",
    "states = env_info.vector_observations\n",
    "state_size = states.shape[1]\n",
    "print('There are {} agents. Each observes a state with length: {}'.format(states.shape[0], state_size))\n",
    "print('The state for the first agent looks like:', states[0])"
   ]
  },
  {
   "cell_type": "markdown",
   "metadata": {},
   "source": [
    "### 3. Take Random Actions in the Environment\n",
    "\n",
    "In the next code cell, you will learn how to use the Python API to control the agents and receive feedback from the environment.\n",
    "\n",
    "Once this cell is executed, you will watch the agents' performance, if they select actions at random with each time step.  A window should pop up that allows you to observe the agents.\n",
    "\n",
    "Of course, as part of the project, you'll have to change the code so that the agents are able to use their experiences to gradually choose better actions when interacting with the environment!"
   ]
  },
  {
   "cell_type": "code",
   "execution_count": null,
   "metadata": {},
   "outputs": [],
   "source": [
    "for i in range(1, 6):                                      # play game for 5 episodes\n",
    "    env_info = env.reset(train_mode=False)[brain_name]     # reset the environment    \n",
    "    states = env_info.vector_observations                  # get the current state (for each agent)\n",
    "    scores = np.zeros(num_agents)                          # initialize the score (for each agent)\n",
    "    while True:\n",
    "        actions = np.random.randn(num_agents, action_size) # select an action (for each agent)\n",
    "        actions = np.clip(actions, -1, 1)                  # all actions between -1 and 1\n",
    "        env_info = env.step(actions)[brain_name]           # send all actions to tne environment\n",
    "        next_states = env_info.vector_observations         # get next state (for each agent)\n",
    "        rewards = env_info.rewards                         # get reward (for each agent)\n",
    "        dones = env_info.local_done                        # see if episode finished\n",
    "        scores += env_info.rewards                         # update the score (for each agent)\n",
    "        states = next_states                               # roll over states to next time step\n",
    "        if np.any(dones):                                  # exit loop if episode finished\n",
    "            break\n",
    "    print('Score (max over agents) from episode {}: {}'.format(i, np.max(scores)))"
   ]
  },
  {
   "cell_type": "markdown",
   "metadata": {},
   "source": [
    "When finished, you can close the environment."
   ]
  },
  {
   "cell_type": "code",
   "execution_count": null,
   "metadata": {},
   "outputs": [],
   "source": [
    "env.close()"
   ]
  },
  {
   "cell_type": "markdown",
   "metadata": {},
   "source": [
    "### 4. It's Your Turn!\n",
    "\n",
    "Now it's your turn to train your own agent to solve the environment!  When training the environment, set `train_mode=True`, so that the line for resetting the environment looks like the following:\n",
    "```python\n",
    "env_info = env.reset(train_mode=True)[brain_name]\n",
    "```"
   ]
  },
  {
   "cell_type": "markdown",
   "metadata": {},
   "source": [
    "<hr style=\"border:2px inset lightgrey\" />"
   ]
  },
  {
   "cell_type": "code",
   "execution_count": 1,
   "metadata": {},
   "outputs": [],
   "source": [
    "import random\n",
    "import numpy as np\n",
    "from unityagents import UnityEnvironment"
   ]
  },
  {
   "cell_type": "code",
   "execution_count": 2,
   "metadata": {},
   "outputs": [],
   "source": [
    "import torch\n",
    "import torch.nn.functional as F\n",
    "from torch.optim import RMSprop, Adam\n",
    "\n",
    "from agent.ddpg_agent import DDPGAgent\n",
    "from agent.td3_agent import TD3Agent\n",
    "from agent.multi_agent import MultiAgent\n",
    "from agent.replay_buffer import ReplayBuffer\n",
    "from agent.config import Config\n",
    "from agent.utils import EnvironmentAdapterForUnity, plot_scores"
   ]
  },
  {
   "cell_type": "code",
   "execution_count": 3,
   "metadata": {},
   "outputs": [
    {
     "name": "stderr",
     "output_type": "stream",
     "text": [
      "INFO:unityagents:\n",
      "'Academy' started successfully!\n",
      "Unity Academy name: Academy\n",
      "        Number of Brains: 1\n",
      "        Number of External Brains : 1\n",
      "        Lesson number : 0\n",
      "        Reset Parameters :\n",
      "\t\t\n",
      "Unity brain name: TennisBrain\n",
      "        Number of Visual Observations (per agent): 0\n",
      "        Vector Observation space type: continuous\n",
      "        Vector Observation space size (per agent): 8\n",
      "        Number of stacked Vector Observation: 3\n",
      "        Vector Action space type: continuous\n",
      "        Vector Action space size (per agent): 2\n",
      "        Vector Action descriptions: , \n"
     ]
    }
   ],
   "source": [
    "env = UnityEnvironment(file_name='./env/Tennis.app', no_graphics=True)\n",
    "brain_name = env.brain_names[0]\n",
    "brain = env.brains[brain_name]\n",
    "env_info = env.reset(train_mode=True)[brain_name]\n",
    "num_agents = len(env_info.agents)\n",
    "action_size = brain.vector_action_space_size\n",
    "states = env_info.vector_observations\n",
    "state_size = states.shape[1]"
   ]
  },
  {
   "cell_type": "code",
   "execution_count": 4,
   "metadata": {},
   "outputs": [],
   "source": [
    "# See agent/utils.py, EnvironmentAdapterForUnity class for more details\n",
    "unity_env = EnvironmentAdapterForUnity(env, brain_name)\n",
    "config = Config()"
   ]
  },
  {
   "cell_type": "markdown",
   "metadata": {},
   "source": [
    "# DDPG"
   ]
  },
  {
   "cell_type": "code",
   "execution_count": 5,
   "metadata": {},
   "outputs": [],
   "source": [
    "config.seed = 0\n",
    "config.num_agents = 2\n",
    "config.env = unity_env\n",
    "config.env_solved = 0.5\n",
    "config.times_solved = 100\n",
    "config.num_episodes = 3000\n",
    "config.num_updates = 1\n",
    "config.max_steps = 3000\n",
    "config.buffer_size = int(1e6)\n",
    "config.batch_size = 512\n",
    "config.state_size = state_size\n",
    "config.action_size = action_size\n",
    "config.gamma = 0.99\n",
    "config.tau = 1e-2\n",
    "config.lr_actor = 1e-3\n",
    "config.lr_critic = 1e-3\n",
    "config.hidden_actor = (64, 64)\n",
    "config.hidden_critic = (512,)\n",
    "config.activ_actor = F.relu\n",
    "config.activ_critic = F.relu\n",
    "config.optim_actor = Adam\n",
    "config.optim_critic = Adam\n",
    "# config.grad_clip_actor = 5\n",
    "# config.grad_clip_critic = 5\n",
    "config.update_every = 1\n",
    "config.use_ou_noise = False\n",
    "# config.ou_mu = 0.0\n",
    "# config.ou_theta = 0.15\n",
    "# config.ou_sigma = 0.2\n",
    "config.expl_noise = 0.1\n",
    "# config.noise_weight = 1.0\n",
    "# config.noise_decay = 1.0\n",
    "config.policy_noise = 0.0\n",
    "# config.noise_clip = 0.5\n",
    "config.policy_freq_update = 1"
   ]
  },
  {
   "cell_type": "code",
   "execution_count": 6,
   "metadata": {},
   "outputs": [],
   "source": [
    "ml_agent = MultiAgent(DDPGAgent, config)"
   ]
  },
  {
   "cell_type": "code",
   "execution_count": 7,
   "metadata": {},
   "outputs": [
    {
     "name": "stdout",
     "output_type": "stream",
     "text": [
      "DDPG Agent 0:\n",
      "==========\n",
      "\n",
      "Actor Network:\n",
      "--------------\n",
      "Actor(\n",
      "  (layers): ModuleList(\n",
      "    (0): Linear(in_features=24, out_features=64, bias=True)\n",
      "    (1): Linear(in_features=64, out_features=64, bias=True)\n",
      "    (2): Linear(in_features=64, out_features=2, bias=True)\n",
      "  )\n",
      ")\n",
      "\n",
      "Critic Network:\n",
      "---------------\n",
      "Critic(\n",
      "  (layers): ModuleList(\n",
      "    (0): Linear(in_features=52, out_features=512, bias=True)\n",
      "    (1): Linear(in_features=512, out_features=1, bias=True)\n",
      "  )\n",
      ")\n",
      "\n",
      "DDPG Agent 1:\n",
      "==========\n",
      "\n",
      "Actor Network:\n",
      "--------------\n",
      "Actor(\n",
      "  (layers): ModuleList(\n",
      "    (0): Linear(in_features=24, out_features=64, bias=True)\n",
      "    (1): Linear(in_features=64, out_features=64, bias=True)\n",
      "    (2): Linear(in_features=64, out_features=2, bias=True)\n",
      "  )\n",
      ")\n",
      "\n",
      "Critic Network:\n",
      "---------------\n",
      "Critic(\n",
      "  (layers): ModuleList(\n",
      "    (0): Linear(in_features=52, out_features=512, bias=True)\n",
      "    (1): Linear(in_features=512, out_features=1, bias=True)\n",
      "  )\n",
      ")\n",
      "\n"
     ]
    }
   ],
   "source": [
    "ml_agent.summary()"
   ]
  },
  {
   "cell_type": "code",
   "execution_count": 8,
   "metadata": {},
   "outputs": [
    {
     "name": "stdout",
     "output_type": "stream",
     "text": [
      "Episode 100\tAvg Score: 0.003\n",
      "Episode 200\tAvg Score: 0.002\n",
      "Episode 300\tAvg Score: 0.011\n",
      "Episode 400\tAvg Score: 0.010\n",
      "Episode 500\tAvg Score: 0.025\n",
      "Episode 600\tAvg Score: 0.011\n",
      "Episode 700\tAvg Score: 0.018\n",
      "Episode 800\tAvg Score: 0.059\n",
      "Episode 900\tAvg Score: 0.075\n",
      "Episode 1000\tAvg Score: 0.092\n",
      "Episode 1100\tAvg Score: 0.128\n",
      "Episode 1200\tAvg Score: 0.173\n",
      "Episode 1234\tAvg Score: 0.506\n",
      "Running evaluation without noise...\n",
      "Environment solved 100 times consecutively!\n",
      "Avg score: 1.349\n",
      "Time elapsed: 0:20:38\n"
     ]
    }
   ],
   "source": [
    "score = ml_agent.train()"
   ]
  },
  {
   "cell_type": "code",
   "execution_count": 10,
   "metadata": {},
   "outputs": [],
   "source": [
    "np.save('ddpg_score.npy', score)"
   ]
  },
  {
   "cell_type": "code",
   "execution_count": 22,
   "metadata": {},
   "outputs": [],
   "source": [
    "# score = np.load('ddpg_score.npy')"
   ]
  },
  {
   "cell_type": "code",
   "execution_count": 24,
   "metadata": {},
   "outputs": [
    {
     "data": {
      "image/png": "[encoded data removed]",
      "text/plain": [
       "<Figure size 1080x432 with 1 Axes>"
      ]
     },
     "metadata": {
      "needs_background": "light"
     },
     "output_type": "display_data"
    }
   ],
   "source": [
    "plot_scores(score, title='DDPG agent avg score' ,polyfit_deg=6)"
   ]
  },
  {
   "cell_type": "markdown",
   "metadata": {},
   "source": [
    "# TD3"
   ]
  },
  {
   "cell_type": "code",
   "execution_count": 5,
   "metadata": {},
   "outputs": [],
   "source": [
    "config.seed = 0\n",
    "config.num_agents = 2\n",
    "config.env = unity_env\n",
    "config.env_solved = 0.5\n",
    "config.times_solved = 100\n",
    "config.num_episodes = 10000\n",
    "config.num_updates = 1\n",
    "config.max_steps = 3000\n",
    "config.buffer_size = int(1e6)\n",
    "config.batch_size = 512\n",
    "config.state_size = state_size\n",
    "config.action_size = action_size\n",
    "config.gamma = 0.99\n",
    "config.tau = 1e-2\n",
    "config.lr_actor = 1e-3\n",
    "config.lr_critic = 1e-3\n",
    "config.hidden_actor = (64, 64)\n",
    "config.hidden_critic = (256, 256)\n",
    "config.activ_actor = F.relu\n",
    "config.activ_critic = F.relu\n",
    "config.optim_actor = Adam\n",
    "config.optim_critic = Adam\n",
    "# config.grad_clip_actor = 5\n",
    "# config.grad_clip_critic = 5\n",
    "config.update_every = 1\n",
    "config.use_ou_noise = False\n",
    "# config.ou_mu = 0.0\n",
    "# config.ou_theta = 0.15\n",
    "# config.ou_sigma = 0.2\n",
    "config.expl_noise = 0.1\n",
    "# config.noise_weight = 1.0\n",
    "# config.noise_decay = 1.0\n",
    "config.policy_noise = 0.1\n",
    "config.noise_clip = 0.2\n",
    "config.policy_freq_update = 1"
   ]
  },
  {
   "cell_type": "code",
   "execution_count": 6,
   "metadata": {},
   "outputs": [],
   "source": [
    "ml_agent = MultiAgent(TD3Agent, config)"
   ]
  },
  {
   "cell_type": "code",
   "execution_count": 7,
   "metadata": {},
   "outputs": [
    {
     "name": "stdout",
     "output_type": "stream",
     "text": [
      "TD3 Agent 0:\n",
      "==========\n",
      "\n",
      "Actor Network:\n",
      "--------------\n",
      "Actor(\n",
      "  (layers): ModuleList(\n",
      "    (0): Linear(in_features=24, out_features=64, bias=True)\n",
      "    (1): Linear(in_features=64, out_features=64, bias=True)\n",
      "    (2): Linear(in_features=64, out_features=2, bias=True)\n",
      "  )\n",
      ")\n",
      "\n",
      "Critic Network:\n",
      "---------------\n",
      "Critic(\n",
      "  (layers): ModuleList(\n",
      "    (0): Linear(in_features=52, out_features=256, bias=True)\n",
      "    (1): Linear(in_features=256, out_features=256, bias=True)\n",
      "    (2): Linear(in_features=256, out_features=1, bias=True)\n",
      "  )\n",
      ")\n",
      "\n",
      "Twin Network:\n",
      "-------------\n",
      "Critic(\n",
      "  (layers): ModuleList(\n",
      "    (0): Linear(in_features=52, out_features=256, bias=True)\n",
      "    (1): Linear(in_features=256, out_features=256, bias=True)\n",
      "    (2): Linear(in_features=256, out_features=1, bias=True)\n",
      "  )\n",
      ")\n",
      "\n",
      "TD3 Agent 1:\n",
      "==========\n",
      "\n",
      "Actor Network:\n",
      "--------------\n",
      "Actor(\n",
      "  (layers): ModuleList(\n",
      "    (0): Linear(in_features=24, out_features=64, bias=True)\n",
      "    (1): Linear(in_features=64, out_features=64, bias=True)\n",
      "    (2): Linear(in_features=64, out_features=2, bias=True)\n",
      "  )\n",
      ")\n",
      "\n",
      "Critic Network:\n",
      "---------------\n",
      "Critic(\n",
      "  (layers): ModuleList(\n",
      "    (0): Linear(in_features=52, out_features=256, bias=True)\n",
      "    (1): Linear(in_features=256, out_features=256, bias=True)\n",
      "    (2): Linear(in_features=256, out_features=1, bias=True)\n",
      "  )\n",
      ")\n",
      "\n",
      "Twin Network:\n",
      "-------------\n",
      "Critic(\n",
      "  (layers): ModuleList(\n",
      "    (0): Linear(in_features=52, out_features=256, bias=True)\n",
      "    (1): Linear(in_features=256, out_features=256, bias=True)\n",
      "    (2): Linear(in_features=256, out_features=1, bias=True)\n",
      "  )\n",
      ")\n",
      "\n"
     ]
    }
   ],
   "source": [
    "ml_agent.summary()"
   ]
  },
  {
   "cell_type": "code",
   "execution_count": 8,
   "metadata": {},
   "outputs": [
    {
     "name": "stdout",
     "output_type": "stream",
     "text": [
      "Episode 100\tAvg Score: 0.011\n",
      "Episode 200\tAvg Score: 0.008\n",
      "Episode 300\tAvg Score: 0.008\n",
      "Episode 400\tAvg Score: 0.013\n",
      "Episode 500\tAvg Score: 0.049\n",
      "Episode 600\tAvg Score: 0.075\n",
      "Episode 700\tAvg Score: 0.106\n",
      "Episode 800\tAvg Score: 0.126\n",
      "Episode 850\tAvg Score: 0.505\n",
      "Running evaluation without noise...\n",
      "Environment solved 100 times consecutively!\n",
      "Avg score: 2.146\n",
      "Time elapsed: 0:28:38\n"
     ]
    }
   ],
   "source": [
    "score = ml_agent.train()"
   ]
  },
  {
   "cell_type": "code",
   "execution_count": 11,
   "metadata": {},
   "outputs": [],
   "source": [
    "np.save('td3_score.npy', score)"
   ]
  },
  {
   "cell_type": "code",
   "execution_count": 19,
   "metadata": {},
   "outputs": [],
   "source": [
    "# score = np.load('td3_score.npy')"
   ]
  },
  {
   "cell_type": "code",
   "execution_count": 21,
   "metadata": {},
   "outputs": [
    {
     "data": {
      "image/png": "[encoded data removed]",
      "text/plain": [
       "<Figure size 1080x432 with 1 Axes>"
      ]
     },
     "metadata": {
      "needs_background": "light"
     },
     "output_type": "display_data"
    }
   ],
   "source": [
    "plot_scores(score, title='TD3 agent avg score', polyfit_deg=6)"
   ]
  },
  {
   "cell_type": "code",
   "execution_count": null,
   "metadata": {},
   "outputs": [],
   "source": []
  }
 ],
 "metadata": {
  "kernelspec": {
   "display_name": "Python 3",
   "language": "python",
   "name": "python3"
  },
  "language_info": {
   "codemirror_mode": {
    "name": "ipython",
    "version": 3
   },
   "file_extension": ".py",
   "mimetype": "text/x-python",
   "name": "python",
   "nbconvert_exporter": "python",
   "pygments_lexer": "ipython3",
   "version": "3.6.8"
  }
 },
 "nbformat": 4,
 "nbformat_minor": 2
}
